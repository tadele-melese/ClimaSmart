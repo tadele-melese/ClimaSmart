{
 "cells": [
  {
   "cell_type": "code",
   "execution_count": null,
   "id": "be766959",
   "metadata": {
    "vscode": {
     "languageId": "plaintext"
    }
   },
   "outputs": [],
   "source": [
    "# Compute SPI index from precipitation file (3-month scale)\n",
    "climasmart spi --input data/precipitation.csv --scale 3\n",
    "\n",
    "# Compute SPEI index from precipitation and PET files (3-month scale)\n",
    "climasmart spei --precip data/precipitation.csv --pet data/pet.csv --scale 3\n",
    "\n",
    "# Batch process climate zones defined in shapefile over 2019-2022\n",
    "climasmart batch-process --shapefile data/zones.shp --start 2019-01 --end 2022-01\n",
    "\n",
    "# Detect anomalies in a dataset using z-score method\n",
    "climasmart anomaly --input data/climate_timeseries.csv --method zscore\n",
    "\n",
    "# Forecast future values using LSTM (12 steps ahead)\n",
    "climasmart forecast --input data/time_series.csv --steps 12\n",
    "\n",
    "# Launch Streamlit dashboard for interactive exploration\n",
    "climasmart dashboard\n"
   ]
  }
 ],
 "metadata": {
  "language_info": {
   "name": "python"
  }
 },
 "nbformat": 4,
 "nbformat_minor": 5
}
