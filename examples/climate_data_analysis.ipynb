{
 "cells": [
  {
   "cell_type": "code",
   "execution_count": null,
   "id": "cbac662f",
   "metadata": {
    "vscode": {
     "languageId": "plaintext"
    }
   },
   "outputs": [],
   "source": [
    "from climasmart.indices import compute_spi\n",
    "\n",
    "# Compute SPI at 3-month scale from precipitation file\n",
    "spi = compute_spi(\"data/precipitation.csv\", scale=3)\n",
    "\n",
    "print(\"Sample SPI values:\")\n",
    "print(spi.head())\n",
    "\n",
    "# Save SPI to CSV\n",
    "spi.to_csv(\"output/spi_3month.csv\")\n"
   ]
  }
 ],
 "metadata": {
  "language_info": {
   "name": "python"
  }
 },
 "nbformat": 4,
 "nbformat_minor": 5
}
