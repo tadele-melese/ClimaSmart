{
 "cells": [
  {
   "cell_type": "code",
   "execution_count": null,
   "id": "ba2161ef",
   "metadata": {
    "vscode": {
     "languageId": "plaintext"
    }
   },
   "outputs": [],
   "source": [
    "import pandas as pd\n",
    "from climasmart.climate import read_climate_data, compute_climate_normal, compute_anomaly\n",
    "from climasmart.anomaly.detect_anomaly import detect_anomaly\n",
    "\n",
    "# Load climate time series data (e.g., precipitation)\n",
    "data = read_climate_data(\"data/precipitation.csv\")\n",
    "\n",
    "# Compute climate normals for baseline period (1981-2010)\n",
    "normals = compute_climate_normal(data, period=(1981, 2010))\n",
    "\n",
    "# Calculate anomalies relative to normal\n",
    "anomalies = compute_anomaly(data, normals)\n",
    "\n",
    "# Save anomalies to disk (optional)\n",
    "anomalies.to_csv(\"output/anomalies.csv\")\n",
    "\n",
    "# Run anomaly detection on anomalies (e.g., z-score method)\n",
    "detected = detect_anomaly(anomalies, method=\"zscore\")\n",
    "\n",
    "print(\"Anomaly detection results:\")\n",
    "print(detected.head())\n",
    "\n",
    "# Optionally save detected anomalies\n",
    "detected.to_csv(\"output/detected_anomalies.csv\")\n"
   ]
  }
 ],
 "metadata": {
  "language_info": {
   "name": "python"
  }
 },
 "nbformat": 4,
 "nbformat_minor": 5
}
