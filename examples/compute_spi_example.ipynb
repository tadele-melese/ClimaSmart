{
 "cells": [
  {
   "cell_type": "code",
   "execution_count": null,
   "id": "0cdd341c",
   "metadata": {
    "vscode": {
     "languageId": "plaintext"
    }
   },
   "outputs": [],
   "source": [
    "import pandas as pd\n",
    "from climasmart.climate import (\n",
    "    read_climate_data,\n",
    "    compute_climate_normal,\n",
    "    compute_anomaly,\n",
    "    compute_trend,\n",
    "    rmse,\n",
    "    compute_evapotranspiration,\n",
    ")\n",
    "\n",
    "# Step 1: Load climate data (e.g., monthly precipitation)\n",
    "data = read_climate_data(\"data/precipitation.csv\")\n",
    "\n",
    "# Step 2: Compute baseline climate normal (e.g., 1981-2010)\n",
    "normal = compute_climate_normal(data, period=(1981, 2010))\n",
    "\n",
    "# Step 3: Compute anomalies relative to baseline\n",
    "anomalies = compute_anomaly(data, normal)\n",
    "\n",
    "# Step 4: Analyze trend in anomalies\n",
    "trend_result = compute_trend(anomalies.iloc[:, 0], method=\"linear\")\n",
    "print(f\"Trend slope: {trend_result['slope']:.4f}, p-value: {trend_result['p_value']:.4f}\")\n",
    "\n",
    "# Step 5: Calculate evapotranspiration for input data (example)\n",
    "et = compute_evapotranspiration(data)\n",
    "\n",
    "# Step 6: Evaluate model predictions (dummy example)\n",
    "y_true = anomalies.iloc[:, 0].values\n",
    "y_pred = y_true * 0.9  # example prediction\n",
    "error = rmse(y_true, y_pred)\n",
    "print(f\"RMSE of prediction: {error:.4f}\")\n"
   ]
  }
 ],
 "metadata": {
  "language_info": {
   "name": "python"
  }
 },
 "nbformat": 4,
 "nbformat_minor": 5
}
